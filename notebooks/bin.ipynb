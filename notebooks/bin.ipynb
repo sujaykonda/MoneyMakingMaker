{
 "cells": [
  {
   "cell_type": "code",
   "execution_count": 1,
   "id": "3768047a-ad68-4cda-b68f-56e6d9b55542",
   "metadata": {},
   "outputs": [],
   "source": [
    "import collections\n",
    "import time\n",
    "import item_utils\n",
    "\n",
    "import dask.bag as db\n",
    "import requests\n",
    "import json\n",
    "\n",
    "from constants import *"
   ]
  },
  {
   "cell_type": "code",
   "execution_count": 4,
   "id": "1b12e1e9-09ff-429e-890f-a7991bcfb567",
   "metadata": {},
   "outputs": [],
   "source": [
    "def process_json(json_data):\n",
    "    bin_prices = {}\n",
    "    auctions = json_data[\"auctions\"]\n",
    "    for auction in auctions:\n",
    "        price = auction[\"starting_bid\"]\n",
    "        if price < auction[\"highest_bid_amount\"]:\n",
    "            price = auction[\"highest_bid_amount\"]\n",
    "\n",
    "        if \"bin\" in auction and not auction[\"claimed\"] and time.time() * 1000 + 60000 < auction[\"end\"]:\n",
    "            item_id = item_utils.to_custom_item_id(auction)\n",
    "            if not item_id.startswith(\"RECOMBOBED\"):\n",
    "                extra = len(auction[\"extra\"][len(auction[\"item_name\"]):].split(\" \"))\n",
    "                if item_id not in bin_prices:\n",
    "                    bin_prices[item_id] = []\n",
    "                auction_data = {\n",
    "                    \"uuid\": auction[\"uuid\"],\n",
    "                    \"price\": price,\n",
    "                    \"extra\": extra,\n",
    "                    \"raw\": auction\n",
    "                }\n",
    "                bin_prices[item_id].append(auction_data)\n",
    "\n",
    "    return bin_prices\n"
   ]
  },
  {
   "cell_type": "code",
   "execution_count": 5,
   "id": "493470b3-16a7-4fba-9019-b08dfe274134",
   "metadata": {},
   "outputs": [],
   "source": [
    "total_pages = requests.get(\"https://api.hypixel.net/skyblock/auctions?key=\" + KEY).json()[\"totalPages\"]\n",
    "urls = []\n",
    "for page in range(total_pages):\n",
    "    urls.append(\"https://api.hypixel.net/skyblock/auctions?key=\" + KEY + \"&&page=\" + str(page))   \n",
    "\n",
    "    \n"
   ]
  },
  {
   "cell_type": "code",
   "execution_count": null,
   "id": "84210535-6127-4121-b381-92e2ec730745",
   "metadata": {},
   "outputs": [],
   "source": []
  }
 ],
 "metadata": {
  "kernelspec": {
   "display_name": "Python 3 (ipykernel)",
   "language": "python",
   "name": "python3"
  },
  "language_info": {
   "codemirror_mode": {
    "name": "ipython",
    "version": 3
   },
   "file_extension": ".py",
   "mimetype": "text/x-python",
   "name": "python",
   "nbconvert_exporter": "python",
   "pygments_lexer": "ipython3",
   "version": "3.8.10"
  }
 },
 "nbformat": 4,
 "nbformat_minor": 5
}
