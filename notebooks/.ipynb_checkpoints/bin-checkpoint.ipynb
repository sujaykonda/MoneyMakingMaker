{
 "cells": [
  {
   "cell_type": "code",
   "execution_count": 1,
   "id": "3768047a-ad68-4cda-b68f-56e6d9b55542",
   "metadata": {},
   "outputs": [],
   "source": [
    "import collections\n",
    "import time\n",
    "import item_utils\n",
    "\n",
    "import dask.bag as db\n",
    "import requests\n",
    "import json\n",
    "import numpy as np\n",
    "import pandas as pd\n",
    "\n",
    "from constants import *"
   ]
  },
  {
   "cell_type": "code",
   "execution_count": 2,
   "id": "1b12e1e9-09ff-429e-890f-a7991bcfb567",
   "metadata": {},
   "outputs": [],
   "source": [
    "def process_json(json_data):\n",
    "    bin_prices = []\n",
    "    auctions = json_data[\"auctions\"]\n",
    "    for auction in auctions:\n",
    "        price = auction[\"starting_bid\"]\n",
    "        if price < auction[\"highest_bid_amount\"]:\n",
    "            price = auction[\"highest_bid_amount\"]\n",
    "\n",
    "        if \"bin\" in auction and not auction[\"claimed\"] and time.time() * 1000 + 60000 < auction[\"end\"]:\n",
    "            item_id = item_utils.to_custom_item_id(auction)\n",
    "            if not item_id.startswith(\"RECOMBOBED\") and \"✪\" not in item_id:\n",
    "                extra = len(auction[\"extra\"][len(auction[\"item_name\"]):].split(\" \"))\n",
    "                auction_data = [\n",
    "                    item_id,\n",
    "                    auction[\"uuid\"],\n",
    "                    price,\n",
    "                    extra,\n",
    "                    json_data['page']\n",
    "                    ]\n",
    "                bin_prices.append(auction_data)\n",
    "\n",
    "    return bin_prices\n"
   ]
  },
  {
   "cell_type": "code",
   "execution_count": 98,
   "id": "84f6327b-c55e-4288-bdf0-d33a4dc8e022",
   "metadata": {},
   "outputs": [],
   "source": [
    "start_time = time.time()"
   ]
  },
  {
   "cell_type": "code",
   "execution_count": 99,
   "id": "493470b3-16a7-4fba-9019-b08dfe274134",
   "metadata": {},
   "outputs": [],
   "source": [
    "total_pages = requests.get(\"https://api.hypixel.net/skyblock/auctions?key=\" + KEY).json()[\"totalPages\"]\n",
    "urls = []\n",
    "for page in range(total_pages):\n",
    "    urls.append(\"https://api.hypixel.net/skyblock/auctions?key=\" + KEY + \"&&page=\" + str(page))   "
   ]
  },
  {
   "cell_type": "code",
   "execution_count": 100,
   "id": "84210535-6127-4121-b381-92e2ec730745",
   "metadata": {},
   "outputs": [],
   "source": [
    "datas = db.read_text(urls).map(json.loads).map(process_json).compute()"
   ]
  },
  {
   "cell_type": "code",
   "execution_count": 101,
   "id": "4cac90ea-fd67-4042-9a39-0dd98cbc9d8f",
   "metadata": {},
   "outputs": [],
   "source": [
    "all_data = []\n",
    "for d in datas:\n",
    "    all_data = all_data+d"
   ]
  },
  {
   "cell_type": "code",
   "execution_count": 102,
   "id": "6aad17ab-3d4b-4ce3-96d9-02684dc43f42",
   "metadata": {},
   "outputs": [],
   "source": [
    "prices_df = pd.DataFrame(all_data, columns=['item_id','uuid','price','extra','page']).sort_values(by=[\"item_id\", \"price\"], ascending=True)"
   ]
  },
  {
   "cell_type": "code",
   "execution_count": 103,
   "id": "4e0f5cf9-9979-4885-ba1b-1244276dea4c",
   "metadata": {},
   "outputs": [],
   "source": [
    "prices_gb = prices_df.groupby('item_id')"
   ]
  },
  {
   "cell_type": "code",
   "execution_count": 104,
   "id": "5e43bddf-5891-45b3-9dc6-f4886e05d97c",
   "metadata": {},
   "outputs": [],
   "source": [
    "count_df = prices_gb.count()"
   ]
  },
  {
   "cell_type": "code",
   "execution_count": 105,
   "id": "a62e293c-a9c1-4fc2-b933-4bc4fc6067df",
   "metadata": {},
   "outputs": [],
   "source": [
    "count_df = count_df[count_df[\"price\"] > 20]"
   ]
  },
  {
   "cell_type": "code",
   "execution_count": 106,
   "id": "cbaf14a1-1d25-4495-9800-1ce3e1c65f57",
   "metadata": {},
   "outputs": [],
   "source": [
    "flips_df = prices_gb.nth(0).join(prices_gb.nth(1), rsuffix=\"_next\")"
   ]
  },
  {
   "cell_type": "code",
   "execution_count": 107,
   "id": "b408e2a0-5974-4394-a91d-57c0965316ab",
   "metadata": {},
   "outputs": [],
   "source": [
    "flips_df = flips_df[flips_df[\"price\"] < 10000000]\n",
    "flips_df = flips_df[flips_df[\"extra\"] < flips_df[\"extra_next\"]]\n",
    "flips_df = flips_df[flips_df.index.isin(count_df.index)]"
   ]
  },
  {
   "cell_type": "code",
   "execution_count": 108,
   "id": "82f1fa30-8bb9-4607-a24f-22efc2b5eccf",
   "metadata": {},
   "outputs": [],
   "source": [
    "flips_df = flips_df.drop(columns=[\"extra\", \"extra_next\", \"page\", \"uuid_next\", \"page_next\"])"
   ]
  },
  {
   "cell_type": "code",
   "execution_count": 109,
   "id": "e493750b-be3b-4be5-b90f-562cfbbe9cba",
   "metadata": {},
   "outputs": [],
   "source": [
    "flips_df[\"profit\"] = flips_df[\"price_next\"] * 0.99 - flips_df[\"price\"]"
   ]
  },
  {
   "cell_type": "code",
   "execution_count": 110,
   "id": "05f61b57-6203-4379-8241-3192fb3c6256",
   "metadata": {},
   "outputs": [],
   "source": [
    "flips_df = flips_df.sort_values(\"profit\", ascending=False)"
   ]
  },
  {
   "cell_type": "code",
   "execution_count": 111,
   "id": "ea4d12fc-3227-4fc3-89cf-c35630715c38",
   "metadata": {},
   "outputs": [
    {
     "name": "stdout",
     "output_type": "stream",
     "text": [
      "9.458857297897339\n"
     ]
    }
   ],
   "source": [
    "print(time.time() - start_time)"
   ]
  },
  {
   "cell_type": "code",
   "execution_count": 113,
   "id": "9994f465-058f-4cf8-8d88-e784d36ddd99",
   "metadata": {},
   "outputs": [
    {
     "data": {
      "text/plain": [
       "'Legendary  Spirit Sceptre ✪✪✪✪✪'"
      ]
     },
     "execution_count": 113,
     "metadata": {},
     "output_type": "execute_result"
    }
   ],
   "source": [
    "flips_df.iloc[0]"
   ]
  },
  {
   "cell_type": "code",
   "execution_count": 94,
   "id": "82c83fc2-6626-48a9-adc4-61fd60a5a55c",
   "metadata": {},
   "outputs": [
    {
     "data": {
      "text/plain": [
       "38"
      ]
     },
     "execution_count": 94,
     "metadata": {},
     "output_type": "execute_result"
    }
   ],
   "source": [
    "len(flips_df)"
   ]
  },
  {
   "cell_type": "code",
   "execution_count": null,
   "id": "4bed62f1-5192-4939-8182-233def4d7663",
   "metadata": {},
   "outputs": [],
   "source": []
  }
 ],
 "metadata": {
  "kernelspec": {
   "display_name": "Python 3 (ipykernel)",
   "language": "python",
   "name": "python3"
  },
  "language_info": {
   "codemirror_mode": {
    "name": "ipython",
    "version": 3
   },
   "file_extension": ".py",
   "mimetype": "text/x-python",
   "name": "python",
   "nbconvert_exporter": "python",
   "pygments_lexer": "ipython3",
   "version": "3.8.10"
  }
 },
 "nbformat": 4,
 "nbformat_minor": 5
}
